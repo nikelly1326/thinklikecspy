{
 "cells": [
  {
   "cell_type": "code",
   "execution_count": 1,
   "metadata": {
    "collapsed": false
   },
   "outputs": [
    {
     "name": "stdout",
     "output_type": "stream",
     "text": [
      "0\n",
      "1\n",
      "4\n",
      "9\n"
     ]
    }
   ],
   "source": [
    "for x in range(4):\n",
    "    print(x**2)"
   ]
  },
  {
   "cell_type": "code",
   "execution_count": 5,
   "metadata": {
    "collapsed": false
   },
   "outputs": [
    {
     "name": "stdout",
     "output_type": "stream",
     "text": [
      "P\n",
      "y\n",
      "t\n",
      "h\n",
      "o\n",
      "n\n"
     ]
    }
   ],
   "source": [
    "for letter in \"Python\":\n",
    "    print(letter)"
   ]
  },
  {
   "cell_type": "code",
   "execution_count": 3,
   "metadata": {
    "collapsed": false
   },
   "outputs": [
    {
     "name": "stdout",
     "output_type": "stream",
     "text": [
      "banana\n",
      "apple\n",
      "mango\n"
     ]
    }
   ],
   "source": [
    "fruits=['banana','apple','mango']\n",
    "for fruit in fruits:\n",
    "    print(fruit)"
   ]
  },
  {
   "cell_type": "code",
   "execution_count": 4,
   "metadata": {
    "collapsed": false,
    "scrolled": true
   },
   "outputs": [
    {
     "name": "stdout",
     "output_type": "stream",
     "text": [
      "0 \n",
      "1 \n",
      "2 \n",
      "3 fizz\n",
      "4 \n",
      "5 buzz\n",
      "6 fizz\n",
      "7 \n",
      "8 \n",
      "9 fizz\n",
      "10 buzz\n",
      "11 \n",
      "12 fizz\n",
      "13 \n",
      "14 \n",
      "15 fizzbuzz\n",
      "16 \n",
      "17 \n",
      "18 fizz\n",
      "19 \n",
      "20 buzz\n",
      "21 fizz\n",
      "22 \n",
      "23 \n",
      "24 fizz\n",
      "25 buzz\n",
      "26 \n",
      "27 fizz\n",
      "28 \n",
      "29 \n",
      "30 fizzbuzz\n",
      "31 \n",
      "32 \n",
      "33 fizz\n",
      "34 \n",
      "35 buzz\n",
      "36 fizz\n",
      "37 \n",
      "38 \n",
      "39 fizz\n",
      "40 buzz\n",
      "41 \n",
      "42 fizz\n",
      "43 \n",
      "44 \n",
      "45 fizzbuzz\n",
      "46 \n",
      "47 \n",
      "48 fizz\n",
      "49 \n",
      "50 buzz\n",
      "51 fizz\n",
      "52 \n",
      "53 \n",
      "54 fizz\n",
      "55 buzz\n",
      "56 \n",
      "57 fizz\n",
      "58 \n",
      "59 \n",
      "60 fizzbuzz\n",
      "61 \n",
      "62 \n",
      "63 fizz\n",
      "64 \n",
      "65 buzz\n",
      "66 fizz\n",
      "67 \n",
      "68 \n",
      "69 fizz\n",
      "70 buzz\n",
      "71 \n",
      "72 fizz\n",
      "73 \n",
      "74 \n",
      "75 fizzbuzz\n",
      "76 \n",
      "77 \n",
      "78 fizz\n",
      "79 \n",
      "80 buzz\n",
      "81 fizz\n",
      "82 \n",
      "83 \n",
      "84 fizz\n",
      "85 buzz\n",
      "86 \n",
      "87 fizz\n",
      "88 \n",
      "89 \n",
      "90 fizzbuzz\n",
      "91 \n",
      "92 \n",
      "93 fizz\n",
      "94 \n",
      "95 buzz\n",
      "96 fizz\n",
      "97 \n",
      "98 \n",
      "99 fizz\n",
      "100 buzz\n"
     ]
    }
   ],
   "source": [
    "for x in range(101):\n",
    "    if x==0:\n",
    "        print(x,\"\")\n",
    "    elif x//5==x/5. and x//3==x/3.:\n",
    "        print(x,\"fizzbuzz\")\n",
    "    elif x//3==x/3.:\n",
    "        print(x,\"fizz\")\n",
    "    elif x//5==x/5.:\n",
    "        print(x,\"buzz\")\n",
    "    elif x//3!=x/3. and  x//5!=x/5.:\n",
    "        print(x,\"\")"
   ]
  },
  {
   "cell_type": "code",
   "execution_count": 2,
   "metadata": {
    "collapsed": false
   },
   "outputs": [
    {
     "name": "stdout",
     "output_type": "stream",
     "text": [
      "0\n"
     ]
    }
   ],
   "source": []
  },
  {
   "cell_type": "code",
   "execution_count": 3,
   "metadata": {
    "collapsed": false,
    "scrolled": true
   },
   "outputs": [
    {
     "name": "stdout",
     "output_type": "stream",
     "text": [
      "0 \n",
      "1 \n",
      "2 \n",
      "3 fizz\n",
      "4 \n",
      "5 buzz\n",
      "6 fizz\n",
      "7 \n",
      "8 \n",
      "9 fizz\n",
      "10 buzz\n",
      "11 \n",
      "12 fizz\n",
      "13 \n",
      "14 \n",
      "15 fizzbuzz\n",
      "16 \n",
      "17 \n",
      "18 fizz\n",
      "19 \n",
      "20 buzz\n",
      "21 fizz\n",
      "22 \n",
      "23 \n",
      "24 fizz\n",
      "25 buzz\n",
      "26 \n",
      "27 fizz\n",
      "28 \n",
      "29 \n",
      "30 fizzbuzz\n",
      "31 \n",
      "32 \n",
      "33 fizz\n",
      "34 \n",
      "35 buzz\n",
      "36 fizz\n",
      "37 \n",
      "38 \n",
      "39 fizz\n",
      "40 buzz\n",
      "41 \n",
      "42 fizz\n",
      "43 \n",
      "44 \n",
      "45 fizzbuzz\n",
      "46 \n",
      "47 \n",
      "48 fizz\n",
      "49 \n",
      "50 buzz\n",
      "51 fizz\n",
      "52 \n",
      "53 \n",
      "54 fizz\n",
      "55 buzz\n",
      "56 \n",
      "57 fizz\n",
      "58 \n",
      "59 \n",
      "60 fizzbuzz\n",
      "61 \n",
      "62 \n",
      "63 fizz\n",
      "64 \n",
      "65 buzz\n",
      "66 fizz\n",
      "67 \n",
      "68 \n",
      "69 fizz\n",
      "70 buzz\n",
      "71 \n",
      "72 fizz\n",
      "73 \n",
      "74 \n",
      "75 fizzbuzz\n",
      "76 \n",
      "77 \n",
      "78 fizz\n",
      "79 \n",
      "80 buzz\n",
      "81 fizz\n",
      "82 \n",
      "83 \n",
      "84 fizz\n",
      "85 buzz\n",
      "86 \n",
      "87 fizz\n",
      "88 \n",
      "89 \n",
      "90 fizzbuzz\n",
      "91 \n",
      "92 \n",
      "93 fizz\n",
      "94 \n",
      "95 buzz\n",
      "96 fizz\n",
      "97 \n",
      "98 \n",
      "99 fizz\n",
      "100 buzz\n"
     ]
    }
   ],
   "source": [
    "for x in range(101):\n",
    "    if x==0:\n",
    "        print(x,\"\")\n",
    "    elif x%15==0:\n",
    "        print(x,\"fizzbuzz\")\n",
    "    elif x%3==0:\n",
    "        print(x,\"fizz\")\n",
    "    elif x%5==0:\n",
    "        print(x,\"buzz\")\n",
    "    elif x%3!=0 and  x%5!=0:\n",
    "        print(x,\"\")"
   ]
  },
  {
   "cell_type": "code",
   "execution_count": 5,
   "metadata": {
    "collapsed": false,
    "scrolled": true
   },
   "outputs": [
    {
     "name": "stdout",
     "output_type": "stream",
     "text": [
      "0 \n",
      "1 \n",
      "2 \n",
      "3 fizz\n",
      "4 \n",
      "5 buzz\n",
      "6 fizz\n",
      "7 \n",
      "8 \n",
      "9 fizz\n",
      "10 buzz\n",
      "11 \n",
      "12 fizz\n",
      "13 \n",
      "14 \n",
      "15 fizzbuzz\n",
      "16 \n",
      "17 \n",
      "18 fizz\n",
      "19 \n",
      "20 buzz\n",
      "21 fizz\n",
      "22 \n",
      "23 \n",
      "24 fizz\n",
      "25 buzz\n",
      "26 \n",
      "27 fizz\n",
      "28 \n",
      "29 \n",
      "30 fizzbuzz\n",
      "31 \n",
      "32 \n",
      "33 fizz\n",
      "34 \n",
      "35 buzz\n",
      "36 fizz\n",
      "37 \n",
      "38 \n",
      "39 fizz\n",
      "40 buzz\n",
      "41 \n",
      "42 fizz\n",
      "43 \n",
      "44 \n",
      "45 fizzbuzz\n",
      "46 \n",
      "47 \n",
      "48 fizz\n",
      "49 \n",
      "50 buzz\n",
      "51 fizz\n",
      "52 \n",
      "53 \n",
      "54 fizz\n",
      "55 buzz\n",
      "56 \n",
      "57 fizz\n",
      "58 \n",
      "59 \n",
      "60 fizzbuzz\n",
      "61 \n",
      "62 \n",
      "63 fizz\n",
      "64 \n",
      "65 buzz\n",
      "66 fizz\n",
      "67 \n",
      "68 \n",
      "69 fizz\n",
      "70 buzz\n",
      "71 \n",
      "72 fizz\n",
      "73 \n",
      "74 \n",
      "75 fizzbuzz\n",
      "76 \n",
      "77 \n",
      "78 fizz\n",
      "79 \n",
      "80 buzz\n",
      "81 fizz\n",
      "82 \n",
      "83 \n",
      "84 fizz\n",
      "85 buzz\n",
      "86 \n",
      "87 fizz\n",
      "88 \n",
      "89 \n",
      "90 fizzbuzz\n",
      "91 \n",
      "92 \n",
      "93 fizz\n",
      "94 \n",
      "95 buzz\n",
      "96 fizz\n",
      "97 \n",
      "98 \n",
      "99 fizz\n",
      "100 buzz\n"
     ]
    }
   ],
   "source": [
    "for x in range(101):\n",
    "    if x==0:\n",
    "        print(x,\"\")\n",
    "    elif x%15==0:\n",
    "        print(x,\"fizzbuzz\")\n",
    "    elif x%3==0:\n",
    "        print(x,\"fizz\")\n",
    "    elif x%5==0:\n",
    "        print(x,\"buzz\")\n",
    "    else:\n",
    "        print(x,\"\")"
   ]
  },
  {
   "cell_type": "code",
   "execution_count": 7,
   "metadata": {
    "collapsed": false
   },
   "outputs": [
    {
     "name": "stdout",
     "output_type": "stream",
     "text": [
      "5\n",
      "4\n",
      "3\n",
      "2\n",
      "1\n"
     ]
    }
   ],
   "source": [
    "num=5\n",
    "while num > 0:\n",
    "    print(num)\n",
    "    num=num-1\n"
   ]
  },
  {
   "cell_type": "code",
   "execution_count": 18,
   "metadata": {
    "collapsed": false,
    "scrolled": true
   },
   "outputs": [
    {
     "name": "stdout",
     "output_type": "stream",
     "text": [
      "250\n",
      "249\n",
      "248\n",
      "247\n",
      "246\n",
      "245\n",
      "244\n",
      "243\n",
      "242\n",
      "241\n",
      "240\n",
      "239\n",
      "238\n",
      "237\n",
      "236\n",
      "235\n",
      "234\n",
      "233\n",
      "232\n",
      "231\n",
      "230\n",
      "229\n",
      "228\n",
      "227\n",
      "226\n",
      "225\n",
      "more than 25 iterations!\n"
     ]
    }
   ],
   "source": [
    "num=250\n",
    "counter=0\n",
    "\n",
    "while num>10:\n",
    "    print(num)\n",
    "    counter=counter+1\n",
    "    num=num-1\n",
    "    if counter>25:\n",
    "        print('more than 25 iterations!')\n",
    "        break\n",
    "        "
   ]
  },
  {
   "cell_type": "code",
   "execution_count": 27,
   "metadata": {
    "collapsed": false
   },
   "outputs": [
    {
     "name": "stdout",
     "output_type": "stream",
     "text": [
      "Pairs of shoes bought:3\n",
      "Money left in wallet:0\n"
     ]
    }
   ],
   "source": [
    "wallet=250\n",
    "shoes=0\n",
    "#purchase=[15,65,35,5,40,100]\n",
    "purchase=[150,65,35,50,40,80]\n",
    "\n",
    "while wallet>0 and shoes <len(purchase):\n",
    "    if wallet < purchase[shoes]:\n",
    "        print(\"Done shoe shopping\")\n",
    "        break\n",
    "    wallet=wallet-purchase[shoes]\n",
    "    shoes=shoes+1\n",
    "\n",
    "print(\"Pairs of shoes bought:\"+str(shoes))\n",
    "print(\"Money left in wallet:\"+str(wallet))"
   ]
  },
  {
   "cell_type": "code",
   "execution_count": null,
   "metadata": {
    "collapsed": true
   },
   "outputs": [],
   "source": [
    "#dice simulator"
   ]
  },
  {
   "cell_type": "code",
   "execution_count": 6,
   "metadata": {
    "collapsed": false
   },
   "outputs": [
    {
     "ename": "NameError",
     "evalue": "name 'raw_input' is not defined",
     "output_type": "error",
     "traceback": [
      "\u001b[0;31m---------------------------------------------------------------------------\u001b[0m",
      "\u001b[0;31mNameError\u001b[0m                                 Traceback (most recent call last)",
      "\u001b[0;32m<ipython-input-6-79d1a36502ad>\u001b[0m in \u001b[0;36m<module>\u001b[0;34m()\u001b[0m\n\u001b[0;32m----> 1\u001b[0;31m \u001b[0mname\u001b[0m\u001b[0;34m=\u001b[0m\u001b[0mraw_input\u001b[0m\u001b[0;34m(\u001b[0m\u001b[0;34m)\u001b[0m\u001b[0;34m\u001b[0m\u001b[0m\n\u001b[0m",
      "\u001b[0;31mNameError\u001b[0m: name 'raw_input' is not defined"
     ]
    }
   ],
   "source": [
    "name=raw_input()"
   ]
  },
  {
   "cell_type": "markdown",
   "metadata": {},
   "source": [
    "As an exercise, write a compare function that returns 1 if\n",
    "x > y, 0 if x == y, and -1 if x < y."
   ]
  },
  {
   "cell_type": "code",
   "execution_count": 7,
   "metadata": {
    "collapsed": true
   },
   "outputs": [],
   "source": [
    "def compare_this_to_that(x,y):\n",
    "    if x > y :\n",
    "        return 0\n",
    "    elif x < y :\n",
    "        return -1\n",
    "    else:\n",
    "        return \"equals\""
   ]
  },
  {
   "cell_type": "code",
   "execution_count": 9,
   "metadata": {
    "collapsed": false
   },
   "outputs": [
    {
     "data": {
      "text/plain": [
       "'equals'"
      ]
     },
     "execution_count": 9,
     "metadata": {},
     "output_type": "execute_result"
    }
   ],
   "source": [
    "compare_this_to_that(45%5,35%7)"
   ]
  },
  {
   "cell_type": "code",
   "execution_count": 14,
   "metadata": {
    "collapsed": false
   },
   "outputs": [
    {
     "data": {
      "text/plain": [
       "5.0"
      ]
     },
     "execution_count": 14,
     "metadata": {},
     "output_type": "execute_result"
    }
   ],
   "source": [
    "import math\n",
    "\n",
    "def hypotenuse(leg1,leg2):\n",
    "    leg1_sq=leg1**2\n",
    "    leg2_sq=leg2**2\n",
    "    sum_leg1_leg2=leg1_sq+leg2_sq\n",
    "    return math.sqrt(sum_leg1_leg2)\n",
    "    \n",
    "hypotenuse(3,4)"
   ]
  },
  {
   "cell_type": "code",
   "execution_count": 21,
   "metadata": {
    "collapsed": false
   },
   "outputs": [
    {
     "data": {
      "text/plain": [
       "-2.0"
      ]
     },
     "execution_count": 21,
     "metadata": {},
     "output_type": "execute_result"
    }
   ],
   "source": [
    "def slope(x1,y1,x2,y2):\n",
    "    hor_dist=float(x2-x1)\n",
    "    vert_dist=float(y2-y1)\n",
    "    slope=vert_dist/hor_dist\n",
    "    return slope\n",
    "    \n",
    "slope(3,3,2,1)"
   ]
  },
  {
   "cell_type": "code",
   "execution_count": 29,
   "metadata": {
    "collapsed": false
   },
   "outputs": [
    {
     "data": {
      "text/plain": [
       "-3.0"
      ]
     },
     "execution_count": 29,
     "metadata": {},
     "output_type": "execute_result"
    }
   ],
   "source": [
    "def intercept(x1,y1,x2,y2):\n",
    "    intercept=y1-slope(x1,y1,x2,y2)*x1\n",
    "    return intercept\n",
    "\n",
    "intercept(3,3,2,1)"
   ]
  },
  {
   "cell_type": "code",
   "execution_count": 34,
   "metadata": {
    "collapsed": false
   },
   "outputs": [
    {
     "data": {
      "text/plain": [
       "False"
      ]
     },
     "execution_count": 34,
     "metadata": {},
     "output_type": "execute_result"
    }
   ],
   "source": [
    "def isBetween(x,y,z):\n",
    "    return y<=x<=z\n",
    "    \n",
    "def isBetween(x,y,z):    \n",
    "    #if y<=x<=z:\n",
    "    #    print(\"True\")\n",
    "    #else:\n",
    "    #    print(\"False\")\n",
    "        \n",
    "isBetween(1,2,3)"
   ]
  },
  {
   "cell_type": "code",
   "execution_count": 42,
   "metadata": {
    "collapsed": false
   },
   "outputs": [],
   "source": [
    "def nLines(n):\n",
    "    if n > 0:\n",
    "        print(\",\")\n",
    "        nLines(n-1)\n"
   ]
  },
  {
   "cell_type": "code",
   "execution_count": 43,
   "metadata": {
    "collapsed": false
   },
   "outputs": [
    {
     "name": "stdout",
     "output_type": "stream",
     "text": [
      ",\n",
      ",\n",
      ",\n"
     ]
    }
   ],
   "source": [
    "nLines(3)"
   ]
  },
  {
   "cell_type": "code",
   "execution_count": 44,
   "metadata": {
    "collapsed": true
   },
   "outputs": [],
   "source": [
    "def nLines(n):\n",
    "    while n > 0:\n",
    "        print(\",\")\n",
    "        n = n -1"
   ]
  },
  {
   "cell_type": "code",
   "execution_count": 45,
   "metadata": {
    "collapsed": false
   },
   "outputs": [
    {
     "name": "stdout",
     "output_type": "stream",
     "text": [
      ",\n",
      ",\n",
      ",\n"
     ]
    }
   ],
   "source": [
    "nLines(3)"
   ]
  },
  {
   "cell_type": "code",
   "execution_count": 53,
   "metadata": {
    "collapsed": false
   },
   "outputs": [
    {
     "name": "stdout",
     "output_type": "stream",
     "text": [
      "1.0\n",
      "\t\n",
      "0.0\n",
      "2.0\n",
      "\t\n",
      "1.0\n",
      "4.0\n",
      "\t\n",
      "2.0\n",
      "8.0\n",
      "\t\n",
      "3.0\n",
      "16.0\n",
      "\t\n",
      "4.0\n",
      "32.0\n",
      "\t\n",
      "5.0\n",
      "64.0\n",
      "\t\n",
      "6.0\n",
      "128.0\n",
      "\t\n",
      "7.0\n",
      "256.0\n",
      "\t\n",
      "8.0\n",
      "512.0\n",
      "\t\n",
      "9.0\n",
      "1024.0\n",
      "\t\n",
      "10.0\n",
      "2048.0\n",
      "\t\n",
      "11.0\n",
      "4096.0\n",
      "\t\n",
      "12.0\n",
      "8192.0\n",
      "\t\n",
      "13.0\n",
      "16384.0\n",
      "\t\n",
      "14.0\n",
      "32768.0\n",
      "\t\n",
      "15.0\n"
     ]
    }
   ],
   "source": [
    "x = 1.0\n",
    "while x < 65536.0:\n",
    "    print(x) , \n",
    "    print('\\t') ,\n",
    "    print(math.log(x)/math.log(2.0)) ,\n",
    "    x = x * 2.0"
   ]
  },
  {
   "cell_type": "code",
   "execution_count": null,
   "metadata": {
    "collapsed": true
   },
   "outputs": [],
   "source": [
    "def printMultTable():\n",
    "    i = 1\n",
    "    while i <= 6:\n",
    "        printMultiples(i)\n",
    "        i = i + 1"
   ]
  },
  {
   "cell_type": "code",
   "execution_count": null,
   "metadata": {
    "collapsed": true
   },
   "outputs": [],
   "source": []
  },
  {
   "cell_type": "code",
   "execution_count": 3,
   "metadata": {
    "collapsed": false
   },
   "outputs": [
    {
     "name": "stdout",
     "output_type": "stream",
     "text": [
      "s\n",
      "n\n",
      "a\n",
      "g\n",
      "i\n",
      "n\n",
      "a\n",
      "n\n",
      "e\n",
      "h\n",
      "s\n"
     ]
    }
   ],
   "source": [
    "string_content=\"shenanigans\"\n",
    "index=len(string_content)-1\n",
    "while index>=0:\n",
    "    print(string_content[index])\n",
    "    index=index-1"
   ]
  },
  {
   "cell_type": "code",
   "execution_count": 6,
   "metadata": {
    "collapsed": false
   },
   "outputs": [
    {
     "name": "stdout",
     "output_type": "stream",
     "text": [
      "Jack\n",
      "Kack\n",
      "Lack\n",
      "Mack\n",
      "Nack\n",
      "Ouack\n",
      "Pack\n",
      "Quack\n"
     ]
    }
   ],
   "source": [
    "prefixes = \"JKLMNOPQ\"\n",
    "suffix = \"ack\"\n",
    "for letter in prefixes:\n",
    "    if letter == \"Q\" or letter == \"O\":\n",
    "        print(letter + \"u\" + suffix)\n",
    "    else:\n",
    "        print(letter + suffix)"
   ]
  },
  {
   "cell_type": "code",
   "execution_count": 7,
   "metadata": {
    "collapsed": false
   },
   "outputs": [
    {
     "name": "stdout",
     "output_type": "stream",
     "text": [
      "nic\n",
      "cole\n",
      "nicole\n"
     ]
    }
   ],
   "source": [
    "name=\"nicole\"\n",
    "print(name[:3])\n",
    "print(name[2:])\n",
    "print(name[:])"
   ]
  },
  {
   "cell_type": "code",
   "execution_count": 12,
   "metadata": {
    "collapsed": false
   },
   "outputs": [],
   "source": [
    "def find2(str, ch, start):\n",
    "    index = start\n",
    "    while index < len(str):\n",
    "        if str[index] == ch:\n",
    "            return index\n",
    "        index = index + 1\n",
    "    return -1"
   ]
  },
  {
   "cell_type": "code",
   "execution_count": 15,
   "metadata": {
    "collapsed": false
   },
   "outputs": [
    {
     "data": {
      "text/plain": [
       "1"
      ]
     },
     "execution_count": 15,
     "metadata": {},
     "output_type": "execute_result"
    }
   ],
   "source": [
    "find(\"miss\",\"i\")"
   ]
  },
  {
   "cell_type": "code",
   "execution_count": 16,
   "metadata": {
    "collapsed": false
   },
   "outputs": [
    {
     "data": {
      "text/plain": [
       "4"
      ]
     },
     "execution_count": 16,
     "metadata": {},
     "output_type": "execute_result"
    }
   ],
   "source": [
    "find2(\"missi\",\"i\",2)"
   ]
  },
  {
   "cell_type": "code",
   "execution_count": 23,
   "metadata": {
    "collapsed": false
   },
   "outputs": [],
   "source": [
    "def countLetters(word, letter):\n",
    "    count = 0\n",
    "    for char in word:\n",
    "        if char == letter:\n",
    "            count = count + 1\n",
    "    print(count)"
   ]
  },
  {
   "cell_type": "code",
   "execution_count": 21,
   "metadata": {
    "collapsed": false
   },
   "outputs": [
    {
     "name": "stdout",
     "output_type": "stream",
     "text": [
      "3\n"
     ]
    }
   ],
   "source": [
    "countLetters(\"notebook\",\"o\")"
   ]
  },
  {
   "cell_type": "code",
   "execution_count": 30,
   "metadata": {
    "collapsed": true
   },
   "outputs": [],
   "source": [
    "def countLetters2(str, ch, start):\n",
    "    index = start\n",
    "    count = 0\n",
    "    while index < len(str):\n",
    "        if str[index] == ch :\n",
    "            count = count +1\n",
    "        index = index + 1\n",
    "    print(count)"
   ]
  },
  {
   "cell_type": "code",
   "execution_count": 33,
   "metadata": {
    "collapsed": false
   },
   "outputs": [
    {
     "name": "stdout",
     "output_type": "stream",
     "text": [
      "2\n"
     ]
    }
   ],
   "source": [
    "countLetters2(\"notebook\", \"o\", 2)"
   ]
  },
  {
   "cell_type": "code",
   "execution_count": 34,
   "metadata": {
    "collapsed": true
   },
   "outputs": [],
   "source": [
    "import string"
   ]
  },
  {
   "cell_type": "code",
   "execution_count": 35,
   "metadata": {
    "collapsed": false
   },
   "outputs": [
    {
     "name": "stdout",
     "output_type": "stream",
     "text": [
      " \t\n",
      "\r",
      "\u000b",
      "\f",
      "\n"
     ]
    }
   ],
   "source": [
    "print(string.whitespace)"
   ]
  },
  {
   "cell_type": "code",
   "execution_count": 40,
   "metadata": {
    "collapsed": false
   },
   "outputs": [
    {
     "name": "stdout",
     "output_type": "stream",
     "text": [
      "5\n",
      "1\n",
      "3\n",
      "3\n"
     ]
    }
   ],
   "source": [
    "list_thing=['spam!', [1], ['Brie', 'Roquefort', 'Pol le Veq'], [1, 2, 3]]\n",
    "\n",
    "index_value=0\n",
    "while index_value<len(list_thing):\n",
    "    print(len(list_thing[index_value]))\n",
    "    index_value=index_value+1"
   ]
  },
  {
   "cell_type": "code",
   "execution_count": 43,
   "metadata": {
    "collapsed": false
   },
   "outputs": [
    {
     "name": "stdout",
     "output_type": "stream",
     "text": [
      "4297148624\n",
      "4357836760\n"
     ]
    }
   ],
   "source": [
    "a=1+3\n",
    "b=1+6/2\n",
    "print(id(a))\n",
    "print(id(b))"
   ]
  },
  {
   "cell_type": "code",
   "execution_count": 53,
   "metadata": {
    "collapsed": false
   },
   "outputs": [
    {
     "data": {
      "text/plain": [
       "7"
      ]
     },
     "execution_count": 53,
     "metadata": {},
     "output_type": "execute_result"
    }
   ],
   "source": [
    "import random\n",
    "new_num=int(random.random()*3+7)\n",
    "new_num"
   ]
  },
  {
   "cell_type": "code",
   "execution_count": 98,
   "metadata": {
    "collapsed": false
   },
   "outputs": [],
   "source": [
    "list_of_random_deux=[0]*100\n",
    "for i in range(100):\n",
    "    list_of_random_deux[i]=random.random()*3+7"
   ]
  },
  {
   "cell_type": "code",
   "execution_count": 99,
   "metadata": {
    "collapsed": false
   },
   "outputs": [],
   "source": [
    "def histogram(list_of_random_num, num_buckets):\n",
    "    buckets=[0]*num_buckets\n",
    "    for i in list_of_random_deux:\n",
    "        index = int((i-7)/3 * num_buckets)\n",
    "        buckets[index] = buckets[index] + 1\n",
    "    return buckets"
   ]
  },
  {
   "cell_type": "code",
   "execution_count": 100,
   "metadata": {
    "collapsed": false,
    "scrolled": true
   },
   "outputs": [
    {
     "data": {
      "text/plain": [
       "[7.109940947387644,\n",
       " 8.824295072688829,\n",
       " 8.260689164158968,\n",
       " 9.095318670398669,\n",
       " 9.823037980924749,\n",
       " 7.074865245551143,\n",
       " 9.116937645426376,\n",
       " 7.540941474836471,\n",
       " 8.596724885603031,\n",
       " 8.357634674555747,\n",
       " 7.383668022783865,\n",
       " 8.942148606805082,\n",
       " 9.098837902915388,\n",
       " 9.752883580393235,\n",
       " 9.21029316803565,\n",
       " 9.931337716847938,\n",
       " 9.850371146577753,\n",
       " 7.445215509398636,\n",
       " 9.104536476696456,\n",
       " 9.830181301030812,\n",
       " 9.977539179999333,\n",
       " 9.975970357245501,\n",
       " 7.013359403661115,\n",
       " 9.316739674631492,\n",
       " 8.356020236977505,\n",
       " 7.790361058738011,\n",
       " 9.955291716470182,\n",
       " 9.7790138154756,\n",
       " 8.826841850502976,\n",
       " 9.482799993146873,\n",
       " 9.591068397563614,\n",
       " 9.961399305736744,\n",
       " 8.245123619555901,\n",
       " 8.662565867587523,\n",
       " 8.861267048379377,\n",
       " 8.716555094154314,\n",
       " 8.778865038136196,\n",
       " 9.50311255182122,\n",
       " 8.835339279149185,\n",
       " 7.017505758721377,\n",
       " 7.222932020850516,\n",
       " 9.072864243755612,\n",
       " 7.7230977890209935,\n",
       " 7.474381005890169,\n",
       " 7.534376968966016,\n",
       " 9.451609990524252,\n",
       " 8.591441081680664,\n",
       " 7.998192504207961,\n",
       " 7.240410810314052,\n",
       " 8.87776188734067,\n",
       " 8.942675344645249,\n",
       " 9.873064145892473,\n",
       " 8.628927373949839,\n",
       " 9.379590536326019,\n",
       " 9.17560458081569,\n",
       " 8.154554234319288,\n",
       " 8.970862438113413,\n",
       " 7.472730882582497,\n",
       " 7.5262510561605405,\n",
       " 7.835576840023752,\n",
       " 7.543933709984473,\n",
       " 7.864839177646095,\n",
       " 9.485194849618647,\n",
       " 9.548824909579853,\n",
       " 7.604862346365799,\n",
       " 8.033782458089693,\n",
       " 7.291550188595145,\n",
       " 9.128528989929986,\n",
       " 8.38946024025426,\n",
       " 9.506727787246785,\n",
       " 9.991129439528539,\n",
       " 8.332405938893208,\n",
       " 8.46943289001454,\n",
       " 7.263033159033577,\n",
       " 9.140191571691071,\n",
       " 8.697350001767365,\n",
       " 8.707743530125434,\n",
       " 9.342396245076996,\n",
       " 8.304208295827134,\n",
       " 8.668934599524803,\n",
       " 7.999712490465606,\n",
       " 7.404782423157922,\n",
       " 9.344653688405334,\n",
       " 7.185738282643881,\n",
       " 8.904050073441717,\n",
       " 9.652943385883788,\n",
       " 8.351278206737248,\n",
       " 9.435284792765072,\n",
       " 9.829280800746522,\n",
       " 8.655458853239944,\n",
       " 8.799165154789641,\n",
       " 7.957634910646073,\n",
       " 7.714364972089811,\n",
       " 9.764998978969517,\n",
       " 7.10230428122964,\n",
       " 7.800140323818671,\n",
       " 7.836692666361004,\n",
       " 8.814309749075745,\n",
       " 8.890332524623583,\n",
       " 9.005313699280263]"
      ]
     },
     "execution_count": 100,
     "metadata": {},
     "output_type": "execute_result"
    }
   ],
   "source": [
    "list_of_random_deux"
   ]
  },
  {
   "cell_type": "code",
   "execution_count": 101,
   "metadata": {
    "collapsed": false
   },
   "outputs": [
    {
     "data": {
      "text/plain": [
       "[15, 15, 11, 22, 18, 19]"
      ]
     },
     "execution_count": 101,
     "metadata": {},
     "output_type": "execute_result"
    }
   ],
   "source": [
    "bucketed_list_test=histogram(list_of_random_deux, 6)\n",
    "bucketed_list_test"
   ]
  },
  {
   "cell_type": "code",
   "execution_count": 102,
   "metadata": {
    "collapsed": false
   },
   "outputs": [
    {
     "data": {
      "text/plain": [
       "16.666666666666668"
      ]
     },
     "execution_count": 102,
     "metadata": {},
     "output_type": "execute_result"
    }
   ],
   "source": [
    "100/6"
   ]
  },
  {
   "cell_type": "code",
   "execution_count": 1,
   "metadata": {
    "collapsed": true
   },
   "outputs": [],
   "source": [
    "new_file=open(\"new_file.dat\",\"w\")"
   ]
  },
  {
   "cell_type": "code",
   "execution_count": 3,
   "metadata": {
    "collapsed": false
   },
   "outputs": [
    {
     "name": "stdout",
     "output_type": "stream",
     "text": [
      "<_io.TextIOWrapper name='new_file.dat' mode='w' encoding='UTF-8'>\n"
     ]
    }
   ],
   "source": [
    "print(new_file)"
   ]
  },
  {
   "cell_type": "code",
   "execution_count": 4,
   "metadata": {
    "collapsed": false
   },
   "outputs": [
    {
     "data": {
      "text/plain": [
       "18"
      ]
     },
     "execution_count": 4,
     "metadata": {},
     "output_type": "execute_result"
    }
   ],
   "source": [
    "new_file.write(\"Now is the time\")\n",
    "new_file.write(\" to close the file\")"
   ]
  },
  {
   "cell_type": "code",
   "execution_count": 5,
   "metadata": {
    "collapsed": true
   },
   "outputs": [],
   "source": [
    "new_file.close()"
   ]
  },
  {
   "cell_type": "code",
   "execution_count": 10,
   "metadata": {
    "collapsed": false
   },
   "outputs": [],
   "source": [
    "new_file=open(\"new_file.dat\",\"r\")"
   ]
  },
  {
   "cell_type": "code",
   "execution_count": 8,
   "metadata": {
    "collapsed": false
   },
   "outputs": [
    {
     "data": {
      "text/plain": [
       "'Now is the time to close the file'"
      ]
     },
     "execution_count": 8,
     "metadata": {},
     "output_type": "execute_result"
    }
   ],
   "source": [
    "new_file.read()"
   ]
  },
  {
   "cell_type": "code",
   "execution_count": 12,
   "metadata": {
    "collapsed": false
   },
   "outputs": [
    {
     "name": "stdout",
     "output_type": "stream",
     "text": [
      "s the\n",
      " time to close the file\n"
     ]
    }
   ],
   "source": [
    "print(new_file.read(5))\n",
    "print(new_file.read(30))"
   ]
  },
  {
   "cell_type": "code",
   "execution_count": 13,
   "metadata": {
    "collapsed": true
   },
   "outputs": [],
   "source": [
    "import pickle"
   ]
  },
  {
   "cell_type": "code",
   "execution_count": 19,
   "metadata": {
    "collapsed": false
   },
   "outputs": [],
   "source": [
    "f=open(\"test.pck\",\"wb\")"
   ]
  },
  {
   "cell_type": "code",
   "execution_count": 20,
   "metadata": {
    "collapsed": false
   },
   "outputs": [],
   "source": [
    "pickle.dump(12.3, f)\n",
    "pickle.dump([1,2,3], f)\n",
    "f.close()"
   ]
  },
  {
   "cell_type": "code",
   "execution_count": 25,
   "metadata": {
    "collapsed": true
   },
   "outputs": [],
   "source": [
    "f=open(\"test.pck\",\"rb\")"
   ]
  },
  {
   "cell_type": "code",
   "execution_count": 26,
   "metadata": {
    "collapsed": false
   },
   "outputs": [
    {
     "data": {
      "text/plain": [
       "12.3"
      ]
     },
     "execution_count": 26,
     "metadata": {},
     "output_type": "execute_result"
    }
   ],
   "source": [
    "x = pickle.load(f)\n",
    "x"
   ]
  },
  {
   "cell_type": "code",
   "execution_count": 27,
   "metadata": {
    "collapsed": false
   },
   "outputs": [
    {
     "data": {
      "text/plain": [
       "float"
      ]
     },
     "execution_count": 27,
     "metadata": {},
     "output_type": "execute_result"
    }
   ],
   "source": [
    "type(x)"
   ]
  },
  {
   "cell_type": "code",
   "execution_count": 28,
   "metadata": {
    "collapsed": true
   },
   "outputs": [],
   "source": [
    "class Point:\n",
    "  pass"
   ]
  },
  {
   "cell_type": "code",
   "execution_count": 29,
   "metadata": {
    "collapsed": true
   },
   "outputs": [],
   "source": [
    "stuff=Point()"
   ]
  },
  {
   "cell_type": "code",
   "execution_count": 30,
   "metadata": {
    "collapsed": false
   },
   "outputs": [
    {
     "data": {
      "text/plain": [
       "__main__.Point"
      ]
     },
     "execution_count": 30,
     "metadata": {},
     "output_type": "execute_result"
    }
   ],
   "source": [
    "type(stuff)"
   ]
  },
  {
   "cell_type": "code",
   "execution_count": 33,
   "metadata": {
    "collapsed": true
   },
   "outputs": [],
   "source": [
    "stuff.x=5\n",
    "stuff.y=10"
   ]
  },
  {
   "cell_type": "code",
   "execution_count": 32,
   "metadata": {
    "collapsed": true
   },
   "outputs": [],
   "source": [
    "def distance(point1, point2):\n",
    "  dx = point2.x - point1.x\n",
    "  dy = point2.y - point1.y\n",
    "  dsquared = dx**2 + dy**2\n",
    "  result = math.sqrt(dsquared)\n",
    "  return result"
   ]
  },
  {
   "cell_type": "code",
   "execution_count": 34,
   "metadata": {
    "collapsed": true
   },
   "outputs": [],
   "source": [
    "cup=Point()"
   ]
  },
  {
   "cell_type": "code",
   "execution_count": 38,
   "metadata": {
    "collapsed": true
   },
   "outputs": [],
   "source": [
    "cup.x=8\n",
    "cup.y=14"
   ]
  },
  {
   "cell_type": "code",
   "execution_count": 39,
   "metadata": {
    "collapsed": false
   },
   "outputs": [
    {
     "data": {
      "text/plain": [
       "5.0"
      ]
     },
     "execution_count": 39,
     "metadata": {},
     "output_type": "execute_result"
    }
   ],
   "source": [
    "import math\n",
    "distance(cup,stuff)"
   ]
  },
  {
   "cell_type": "code",
   "execution_count": 40,
   "metadata": {
    "collapsed": true
   },
   "outputs": [],
   "source": [
    "class Rectangle:\n",
    "    pass"
   ]
  },
  {
   "cell_type": "code",
   "execution_count": 41,
   "metadata": {
    "collapsed": true
   },
   "outputs": [],
   "source": [
    "box=Rectangle()\n",
    "box.width=100.0\n",
    "box.height=200.0"
   ]
  },
  {
   "cell_type": "code",
   "execution_count": 42,
   "metadata": {
    "collapsed": true
   },
   "outputs": [],
   "source": [
    "box.corner=Point()\n",
    "box.corner.x=0.0\n",
    "box.corner.y=0.0"
   ]
  },
  {
   "cell_type": "code",
   "execution_count": 43,
   "metadata": {
    "collapsed": true
   },
   "outputs": [],
   "source": [
    "def findCenter(thing):\n",
    "    p=Point()\n",
    "    p.x=thing.corner.x + thing.width/2.0\n",
    "    p.y=thing.corner.y - thing.height/2.0\n",
    "    return p"
   ]
  },
  {
   "cell_type": "code",
   "execution_count": 44,
   "metadata": {
    "collapsed": false
   },
   "outputs": [
    {
     "name": "stdout",
     "output_type": "stream",
     "text": [
      "50.0\n",
      "-100.0\n"
     ]
    }
   ],
   "source": [
    "center=findCenter(box)\n",
    "print(center.x)\n",
    "print(center.y)"
   ]
  },
  {
   "cell_type": "code",
   "execution_count": 45,
   "metadata": {
    "collapsed": true
   },
   "outputs": [],
   "source": [
    "def growRect(box, dwidth, dheight) :\n",
    "  box.width = box.width + dwidth\n",
    "  box.height = box.height + dheight"
   ]
  },
  {
   "cell_type": "code",
   "execution_count": 46,
   "metadata": {
    "collapsed": true
   },
   "outputs": [],
   "source": [
    "rou=Rectangle()\n",
    "rou.width=100.0\n",
    "rou.height=200.0\n",
    "rou.corner=Point()\n",
    "rou.corner.x=2.0\n",
    "rou.corner.y=4.0\n",
    "growRect(rou, 50, 100)"
   ]
  },
  {
   "cell_type": "code",
   "execution_count": 48,
   "metadata": {
    "collapsed": false
   },
   "outputs": [
    {
     "name": "stdout",
     "output_type": "stream",
     "text": [
      "150.0\n",
      "300.0\n"
     ]
    }
   ],
   "source": [
    "print(rou.width)\n",
    "print(rou.height)"
   ]
  },
  {
   "cell_type": "code",
   "execution_count": 49,
   "metadata": {
    "collapsed": true
   },
   "outputs": [],
   "source": [
    "def moveRect(box,dx,dy):\n",
    "    box.corner.x=box.corner.x+dx\n",
    "    box.corner.y=box.corner.y+dy"
   ]
  },
  {
   "cell_type": "code",
   "execution_count": 50,
   "metadata": {
    "collapsed": true
   },
   "outputs": [],
   "source": [
    "moveRect(rou,3.0,2.0)"
   ]
  },
  {
   "cell_type": "code",
   "execution_count": 52,
   "metadata": {
    "collapsed": false
   },
   "outputs": [
    {
     "name": "stdout",
     "output_type": "stream",
     "text": [
      "5.0\n",
      "6.0\n"
     ]
    }
   ],
   "source": [
    "print(rou.corner.x)\n",
    "print(rou.corner.y)"
   ]
  },
  {
   "cell_type": "code",
   "execution_count": 1,
   "metadata": {
    "collapsed": true
   },
   "outputs": [],
   "source": [
    "class Time:\n",
    "  pass\n",
    "time = Time()\n",
    "time.hours = 11\n",
    "time.minutes = 59\n",
    "time.seconds = 30"
   ]
  },
  {
   "cell_type": "code",
   "execution_count": 6,
   "metadata": {
    "collapsed": false
   },
   "outputs": [
    {
     "name": "stdout",
     "output_type": "stream",
     "text": [
      "11\n"
     ]
    }
   ],
   "source": [
    "print(time.hours)"
   ]
  },
  {
   "cell_type": "code",
   "execution_count": 12,
   "metadata": {
    "collapsed": false
   },
   "outputs": [],
   "source": [
    "def printTime(Time):\n",
    "    print(str(Time.hours)+\":\"+str(Time.minutes)+\":\"+str(Time.seconds))"
   ]
  },
  {
   "cell_type": "code",
   "execution_count": 51,
   "metadata": {
    "collapsed": true
   },
   "outputs": [],
   "source": [
    "cucina=Time()\n",
    "cucina.hours=22\n",
    "cucina.minutes=52\n",
    "cucina.seconds=59"
   ]
  },
  {
   "cell_type": "code",
   "execution_count": 13,
   "metadata": {
    "collapsed": false
   },
   "outputs": [
    {
     "name": "stdout",
     "output_type": "stream",
     "text": [
      "22:52:59\n"
     ]
    }
   ],
   "source": [
    "printTime(cucina)"
   ]
  },
  {
   "cell_type": "code",
   "execution_count": 15,
   "metadata": {
    "collapsed": true
   },
   "outputs": [],
   "source": [
    "def after(t1,t2):\n",
    "    if t1.hours>t2.hours:\n",
    "        print(True)\n",
    "    elif t1.hours==t2.hours:\n",
    "        if t1.minutes>t2.minutes:\n",
    "            print(True)\n",
    "        elif t1.minutes==t2.minutes:\n",
    "            if t1.seconds>t2.seconds:\n",
    "                print(True)\n",
    "            else:\n",
    "                print(False)\n",
    "        else:\n",
    "            print(False)\n",
    "    else:\n",
    "        print(False)"
   ]
  },
  {
   "cell_type": "code",
   "execution_count": 52,
   "metadata": {
    "collapsed": true
   },
   "outputs": [],
   "source": [
    "italiana=Time()\n",
    "italiana.hours=22\n",
    "italiana.minutes=55\n",
    "italiana.seconds=43"
   ]
  },
  {
   "cell_type": "code",
   "execution_count": 17,
   "metadata": {
    "collapsed": false
   },
   "outputs": [
    {
     "name": "stdout",
     "output_type": "stream",
     "text": [
      "False\n"
     ]
    }
   ],
   "source": [
    "after(cucina, italiana)"
   ]
  },
  {
   "cell_type": "code",
   "execution_count": 21,
   "metadata": {
    "collapsed": false
   },
   "outputs": [
    {
     "ename": "SyntaxError",
     "evalue": "invalid syntax (<ipython-input-21-93df8947c7bb>, line 2)",
     "output_type": "error",
     "traceback": [
      "\u001b[0;36m  File \u001b[0;32m\"<ipython-input-21-93df8947c7bb>\"\u001b[0;36m, line \u001b[0;32m2\u001b[0m\n\u001b[0;31m    if t1.hours>=t2.hours & t1.minutes>=t2.minutes & t1.seconds>=t2.seconds & !(t1.hours==t2.hours & t1.minutes==t2.minutes & t1.seconds==t2.seconds):\u001b[0m\n\u001b[0m                                                                              ^\u001b[0m\n\u001b[0;31mSyntaxError\u001b[0m\u001b[0;31m:\u001b[0m invalid syntax\n"
     ]
    }
   ],
   "source": [
    "def after2(t1,t2):\n",
    "    t1.hours>=t2.hours & t1.minutes>=t2.minutes & t1.seconds>=t2.seconds & !(t1.hours==t2.hours & t1.minutes==t2.minutes & t1.seconds==t2.seconds)\n",
    "        return True"
   ]
  },
  {
   "cell_type": "code",
   "execution_count": 19,
   "metadata": {
    "collapsed": false
   },
   "outputs": [
    {
     "name": "stdout",
     "output_type": "stream",
     "text": [
      "> \u001b[0;32m<ipython-input-8-15d7fe5d10a0>\u001b[0m(2)\u001b[0;36mprintTime\u001b[0;34m()\u001b[0m\n",
      "\u001b[0;32m      1 \u001b[0;31m\u001b[0;32mdef\u001b[0m \u001b[0mprintTime\u001b[0m\u001b[0;34m(\u001b[0m\u001b[0mTime\u001b[0m\u001b[0;34m)\u001b[0m\u001b[0;34m:\u001b[0m\u001b[0;34m\u001b[0m\u001b[0m\n",
      "\u001b[0m\u001b[0;32m----> 2 \u001b[0;31m    \u001b[0mprint\u001b[0m\u001b[0;34m(\u001b[0m\u001b[0mTime\u001b[0m\u001b[0;34m.\u001b[0m\u001b[0mhours\u001b[0m\u001b[0;34m+\u001b[0m\u001b[0;34m\":\"\u001b[0m\u001b[0;34m+\u001b[0m\u001b[0mTime\u001b[0m\u001b[0;34m.\u001b[0m\u001b[0mminutes\u001b[0m\u001b[0;34m+\u001b[0m\u001b[0;34m\":\"\u001b[0m\u001b[0;34m+\u001b[0m\u001b[0mTime\u001b[0m\u001b[0;34m.\u001b[0m\u001b[0mseconds\u001b[0m\u001b[0;34m)\u001b[0m\u001b[0;34m\u001b[0m\u001b[0m\n",
      "\u001b[0m\n",
      "--KeyboardInterrupt--\n",
      "ipdb> u\n",
      "> \u001b[0;32m<ipython-input-10-0cb11269d561>\u001b[0m(1)\u001b[0;36m<module>\u001b[0;34m()\u001b[0m\n",
      "\u001b[0;32m----> 1 \u001b[0;31m\u001b[0mprintTime\u001b[0m\u001b[0;34m(\u001b[0m\u001b[0mcucina\u001b[0m\u001b[0;34m)\u001b[0m\u001b[0;34m\u001b[0m\u001b[0m\n",
      "\u001b[0m\n",
      "ipdb> q\n"
     ]
    }
   ],
   "source": []
  },
  {
   "cell_type": "code",
   "execution_count": 50,
   "metadata": {
    "collapsed": true
   },
   "outputs": [],
   "source": [
    "class Time:\n",
    "  def printTime(time):\n",
    "    print(str(time.hours)+\":\"+str(time.minutes)+\":\"+str(time.seconds))\n",
    "    \n",
    "  def increment(self, seconds):\n",
    "    self.seconds = seconds + self.seconds\n",
    "    while self.seconds >= 60:\n",
    "      self.seconds = self.seconds - 60\n",
    "      self.minutes = self.minutes + 1\n",
    "    while self.minutes >= 60:\n",
    "      self.minutes = self.minutes - 60\n",
    "      self.hours = self.hours + 1\n",
    "\n",
    "  def convertToSeconds(self):\n",
    "      minutes = self.hours * 60 + self.minutes\n",
    "      seconds = minutes * 60 + self.seconds\n",
    "      return seconds\n",
    "    \n",
    "  def after(self, time2):\n",
    "    if self.hours > time2.hours:\n",
    "      return 1\n",
    "    if self.hours < time2.hours:\n",
    "      return 0\n",
    "    if self.minutes > time2.minutes:\n",
    "      return 1\n",
    "    if self.minutes < time2.minutes:\n",
    "      return 0\n",
    "    if self.seconds > time2.seconds:\n",
    "      return 1\n",
    "    return 0\n",
    "  \n"
   ]
  },
  {
   "cell_type": "code",
   "execution_count": 29,
   "metadata": {
    "collapsed": false
   },
   "outputs": [],
   "source": [
    "italiana.increment(500)"
   ]
  },
  {
   "cell_type": "code",
   "execution_count": 30,
   "metadata": {
    "collapsed": false
   },
   "outputs": [
    {
     "name": "stdout",
     "output_type": "stream",
     "text": [
      "23:4:3\n"
     ]
    }
   ],
   "source": [
    "italiana.printTime()"
   ]
  },
  {
   "cell_type": "code",
   "execution_count": 40,
   "metadata": {
    "collapsed": false
   },
   "outputs": [],
   "source": [
    "something=italiana.convertToSeconds()"
   ]
  },
  {
   "cell_type": "code",
   "execution_count": 35,
   "metadata": {
    "collapsed": true
   },
   "outputs": [],
   "source": [
    "def makeTime(seconds):\n",
    "  time = Time()\n",
    "  time.hours = seconds // 3600\n",
    "  time.minutes = (seconds%3600) // 60\n",
    "  time.seconds = seconds%60\n",
    "  return time"
   ]
  },
  {
   "cell_type": "code",
   "execution_count": 43,
   "metadata": {
    "collapsed": false
   },
   "outputs": [],
   "source": [
    "newtime=makeTime(something)"
   ]
  },
  {
   "cell_type": "code",
   "execution_count": 45,
   "metadata": {
    "collapsed": false
   },
   "outputs": [
    {
     "name": "stdout",
     "output_type": "stream",
     "text": [
      "22:55:43\n"
     ]
    }
   ],
   "source": [
    "printTime(newtime)"
   ]
  },
  {
   "cell_type": "code",
   "execution_count": 55,
   "metadata": {
    "collapsed": false
   },
   "outputs": [],
   "source": [
    "if cucina.after(italiana):\n",
    "  print(\"The bread is not done yet.\")"
   ]
  },
  {
   "cell_type": "code",
   "execution_count": 60,
   "metadata": {
    "collapsed": false
   },
   "outputs": [],
   "source": [
    "class Point:\n",
    "  def __init__(self, x=0, y=0):\n",
    "    self.x = x\n",
    "    self.y = y\n",
    "    \n",
    "  def __str__(self):\n",
    "    return '(' + str(self.x) + ',' + str(self.y) + ')'\n",
    "\n",
    "  def __add__(self, other):\n",
    "    return Point(self.x + other.x, self.y + other.y)\n",
    "\n",
    "  def __sub__(self, other):\n",
    "        return Point(self.x - other.x, self.y - other.y)"
   ]
  },
  {
   "cell_type": "code",
   "execution_count": 61,
   "metadata": {
    "collapsed": false
   },
   "outputs": [
    {
     "name": "stdout",
     "output_type": "stream",
     "text": [
      "(7,9)\n",
      "(1,1)\n"
     ]
    }
   ],
   "source": [
    "watch=Point(3,4)\n",
    "pen=Point(4,5)\n",
    "band=watch+pen\n",
    "handle=pen-watch\n",
    "print(band)\n",
    "print(handle)"
   ]
  },
  {
   "cell_type": "code",
   "execution_count": 126,
   "metadata": {
    "collapsed": false
   },
   "outputs": [],
   "source": [
    "class Card:\n",
    "    suitList = [\"Clubs\", \"Diamonds\", \"Hearts\", \"Spades\"]\n",
    "    rankList = [\"narf\", \"Ace\", \"2\", \"3\", \"4\", \"5\", \"6\", \"7\", \"8\", \"9\", \"10\", \"Jack\", \"Queen\", \"King\"]\n",
    "    \n",
    "    def __init__(self, suit=0, rank=2):\n",
    "        self.suit = suit\n",
    "        self.rank = rank\n",
    "\n",
    "    def __str__(self):\n",
    "         return (self.rankList[self.rank] + \" of \" +\n",
    "                self.suitList[self.suit])\n",
    "        \n",
    "    def __cmp__(self, other):\n",
    "        #check the suits\n",
    "        if self.suit > other.suit: return 1\n",
    "        if self.suit < other.suit: return -1\n",
    "        #check the rank\n",
    "        #aces high\n",
    "        if self.rank == 1 & other.rank > 1: return 1\n",
    "        if self.rank > 1 & other.rank == 1: return -1\n",
    "        if self.rank > other.rank: return 1\n",
    "        if self.rank < other.rank: return -1\n",
    "        #ranks are the same, doesn't matter if aces high here\n",
    "        return 0"
   ]
  },
  {
   "cell_type": "code",
   "execution_count": 127,
   "metadata": {
    "collapsed": false
   },
   "outputs": [
    {
     "data": {
      "text/plain": [
       "'Queen of Clubs'"
      ]
     },
     "execution_count": 127,
     "metadata": {},
     "output_type": "execute_result"
    }
   ],
   "source": [
    "bandofrubber=Card(0,12)\n",
    "str(bandofrubber)"
   ]
  },
  {
   "cell_type": "code",
   "execution_count": 102,
   "metadata": {
    "collapsed": false
   },
   "outputs": [
    {
     "data": {
      "text/plain": [
       "-1"
      ]
     },
     "execution_count": 102,
     "metadata": {},
     "output_type": "execute_result"
    }
   ],
   "source": [
    "bb=Card(0,12)\n",
    "cc=Card(0,1)\n",
    "bb.__cmp__(cc)"
   ]
  },
  {
   "cell_type": "code",
   "execution_count": null,
   "metadata": {
    "collapsed": true
   },
   "outputs": [],
   "source": []
  },
  {
   "cell_type": "code",
   "execution_count": 131,
   "metadata": {
    "collapsed": false
   },
   "outputs": [],
   "source": [
    "class Deck:\n",
    "    def __init__(self):\n",
    "        self.cards = []\n",
    "        for suit in range(4):\n",
    "            for rank in range(1, 14):\n",
    "                self.cards.append(Card(suit, rank))\n",
    "    \n",
    "    def __str__(self):\n",
    "        s = \"\"\n",
    "        for i in range(len(self.cards)):\n",
    "            s = s + \" \"*i + str(self.cards[i]) + \"\\n\"\n",
    "        return s\n",
    "    \n",
    "    def shuffle(self):\n",
    "        import random\n",
    "        for i in range(len(self.cards)):\n",
    "            j = random.randrange(i, len(self.cards))\n",
    "            self.cards[i], self.cards[j] = self.cards[j], self.cards[i]\n",
    "    \n",
    "    def removeCard(self, card):\n",
    "        if card in self.cards:\n",
    "            self.cards.remove(card)\n",
    "            return True\n",
    "        else:\n",
    "            return False\n",
    "    \n",
    "    def popCard(self):\n",
    "        return self.cards.pop()\n",
    "    \n",
    "    def isEmpty(self):\n",
    "        return (len(self.cards) == 0)\n",
    "\n",
    "        \n",
    "        "
   ]
  },
  {
   "cell_type": "code",
   "execution_count": 132,
   "metadata": {
    "collapsed": true
   },
   "outputs": [],
   "source": [
    "deck=Deck()"
   ]
  },
  {
   "cell_type": "code",
   "execution_count": 106,
   "metadata": {
    "collapsed": false
   },
   "outputs": [
    {
     "ename": "AttributeError",
     "evalue": "'Deck' object has no attribute 'print'",
     "output_type": "error",
     "traceback": [
      "\u001b[0;31m---------------------------------------------------------------------------\u001b[0m",
      "\u001b[0;31mAttributeError\u001b[0m                            Traceback (most recent call last)",
      "\u001b[0;32m<ipython-input-106-30c528989baf>\u001b[0m in \u001b[0;36m<module>\u001b[0;34m()\u001b[0m\n\u001b[0;32m----> 1\u001b[0;31m \u001b[0mdeck\u001b[0m\u001b[0;34m.\u001b[0m\u001b[0mprint\u001b[0m\u001b[0;34m(\u001b[0m\u001b[0;34m)\u001b[0m\u001b[0;34m\u001b[0m\u001b[0m\n\u001b[0m",
      "\u001b[0;31mAttributeError\u001b[0m: 'Deck' object has no attribute 'print'"
     ]
    }
   ],
   "source": []
  },
  {
   "cell_type": "code",
   "execution_count": 116,
   "metadata": {
    "collapsed": true
   },
   "outputs": [],
   "source": [
    "deck.shuffle()"
   ]
  },
  {
   "cell_type": "code",
   "execution_count": 139,
   "metadata": {
    "collapsed": false
   },
   "outputs": [
    {
     "name": "stdout",
     "output_type": "stream",
     "text": [
      "10 of Spades\n"
     ]
    }
   ],
   "source": [
    "print(deck.popCard())"
   ]
  },
  {
   "cell_type": "code",
   "execution_count": 141,
   "metadata": {
    "collapsed": false
   },
   "outputs": [
    {
     "data": {
      "text/plain": [
       "False"
      ]
     },
     "execution_count": 141,
     "metadata": {},
     "output_type": "execute_result"
    }
   ],
   "source": [
    "deck.removeCard(Card(2,1))"
   ]
  },
  {
   "cell_type": "code",
   "execution_count": 140,
   "metadata": {
    "collapsed": false
   },
   "outputs": [
    {
     "name": "stdout",
     "output_type": "stream",
     "text": [
      "Ace of Clubs\n",
      " 2 of Clubs\n",
      "  3 of Clubs\n",
      "   4 of Clubs\n",
      "    5 of Clubs\n",
      "     6 of Clubs\n",
      "      7 of Clubs\n",
      "       8 of Clubs\n",
      "        9 of Clubs\n",
      "         10 of Clubs\n",
      "          Jack of Clubs\n",
      "           Queen of Clubs\n",
      "            King of Clubs\n",
      "             Ace of Diamonds\n",
      "              2 of Diamonds\n",
      "               3 of Diamonds\n",
      "                4 of Diamonds\n",
      "                 5 of Diamonds\n",
      "                  6 of Diamonds\n",
      "                   7 of Diamonds\n",
      "                    8 of Diamonds\n",
      "                     9 of Diamonds\n",
      "                      10 of Diamonds\n",
      "                       Jack of Diamonds\n",
      "                        Queen of Diamonds\n",
      "                         King of Diamonds\n",
      "                          Ace of Hearts\n",
      "                           2 of Hearts\n",
      "                            3 of Hearts\n",
      "                             4 of Hearts\n",
      "                              5 of Hearts\n",
      "                               6 of Hearts\n",
      "                                7 of Hearts\n",
      "                                 8 of Hearts\n",
      "                                  9 of Hearts\n",
      "                                   10 of Hearts\n",
      "                                    Jack of Hearts\n",
      "                                     Queen of Hearts\n",
      "                                      King of Hearts\n",
      "                                       Ace of Spades\n",
      "                                        2 of Spades\n",
      "                                         3 of Spades\n",
      "                                          4 of Spades\n",
      "                                           5 of Spades\n",
      "                                            6 of Spades\n",
      "                                             7 of Spades\n",
      "                                              8 of Spades\n",
      "                                               9 of Spades\n",
      "\n"
     ]
    }
   ],
   "source": [
    "print(deck)"
   ]
  },
  {
   "cell_type": "code",
   "execution_count": null,
   "metadata": {
    "collapsed": true
   },
   "outputs": [],
   "source": []
  }
 ],
 "metadata": {
  "anaconda-cloud": {},
  "kernelspec": {
   "display_name": "Python [conda root]",
   "language": "python",
   "name": "conda-root-py"
  },
  "language_info": {
   "codemirror_mode": {
    "name": "ipython",
    "version": 3
   },
   "file_extension": ".py",
   "mimetype": "text/x-python",
   "name": "python",
   "nbconvert_exporter": "python",
   "pygments_lexer": "ipython3",
   "version": "3.5.2"
  }
 },
 "nbformat": 4,
 "nbformat_minor": 1
}
